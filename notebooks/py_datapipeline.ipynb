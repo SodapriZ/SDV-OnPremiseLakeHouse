{
 "cells": [
  {
   "cell_type": "code",
   "execution_count": 74,
   "metadata": {},
   "outputs": [
    {
     "name": "stdout",
     "output_type": "stream",
     "text": [
      "Total buckets:  2\n"
     ]
    }
   ],
   "source": [
    "from minio import Minio\n",
    "\n",
    "client = Minio(endpoint='localhost:9000',\n",
    "               access_key=\"u4rWRgp0IIZ0dGQoMWRZ\",\n",
    "               secret_key=\"GYgeifrnYK9q9o2BGED2k3NroASmCvou59PxYLjm\",\n",
    "               secure=False)\n",
    "\n",
    "print(\"Total buckets: \", len(client.list_buckets()))"
   ]
  },
  {
   "cell_type": "code",
   "execution_count": 75,
   "metadata": {},
   "outputs": [
    {
     "name": "stdout",
     "output_type": "stream",
     "text": [
      "cleaned/sales/sales_data.parquet\n",
      "raw/sales/sales_data.csv\n"
     ]
    }
   ],
   "source": [
    "import boto3\n",
    "# Set up MinIO client\n",
    "s3 = boto3.client('s3',\n",
    "                  endpoint_url='http://localhost:9000',\n",
    "                  aws_access_key_id=\"u4rWRgp0IIZ0dGQoMWRZ\",\n",
    "                  aws_secret_access_key=\"GYgeifrnYK9q9o2BGED2k3NroASmCvou59PxYLjm\")\n",
    "# Create a bucket\n",
    "# s3.create_bucket(Bucket='mybucket')\n",
    "# # Upload a file to the bucket\n",
    "# s3.upload_file('myfile.txt', 'mybucket', 'myfile.txt')\n",
    "# List objects in the bucket\n",
    "response = s3.list_objects(Bucket='datalake')\n",
    "for obj in response.get('Contents', []):\n",
    "    print(obj['Key'])"
   ]
  },
  {
   "cell_type": "code",
   "execution_count": 81,
   "metadata": {},
   "outputs": [
    {
     "name": "stdout",
     "output_type": "stream",
     "text": [
      "Total buckets:  2\n",
      "0               Canada\n",
      "1               France\n",
      "2        United States\n",
      "3        United States\n",
      "4            Australia\n",
      "             ...      \n",
      "60393           Canada\n",
      "60394           Canada\n",
      "60395           Canada\n",
      "60396           Canada\n",
      "60397           Canada\n",
      "Name: sales_territory_country, Length: 60398, dtype: object\n"
     ]
    }
   ],
   "source": [
    "import pandas as pd\n",
    "from minio import Minio\n",
    "from io import StringIO, BytesIO\n",
    "\n",
    "# MinIO configurations\n",
    "minio_client = Minio(endpoint='localhost:9000',\n",
    "               access_key=\"u4rWRgp0IIZ0dGQoMWRZ\",\n",
    "               secret_key=\"GYgeifrnYK9q9o2BGED2k3NroASmCvou59PxYLjm\",\n",
    "               secure=False)\n",
    "\n",
    "print(\"Total buckets: \", len(client.list_buckets()))\n",
    "\n",
    "#-------------------------------------- E T L -------------------------------------------------------#\n",
    "\n",
    "def extract_data_from_minio(bucket_name, object_name):\n",
    "    # Function to read data from MinIO\n",
    "    obj = minio_client.get_object(bucket_name, object_name)\n",
    "    data = obj.data.decode('utf-8')\n",
    "    return data\n",
    "\n",
    "def transform_data(data):\n",
    "    def rename_columns(df):\n",
    "        \"\"\"\n",
    "        Rename columns of a DataFrame to desired format.\n",
    "        \n",
    "        Args:\n",
    "        - df: pandas DataFrame containing the data\n",
    "        \n",
    "        Returns:\n",
    "        - df: pandas DataFrame with renamed columns\n",
    "        \"\"\"\n",
    "        column_mapping = {\n",
    "            'Unnamed: 0': 'id', \n",
    "            'ProductCategoryName': 'product_category_name', \n",
    "            'ProductSubcategoryName': 'product_sub_category_name',\n",
    "            'ProductName': 'product_name', \n",
    "            'SalesTerritoryCountry': 'sales_territory_country', \n",
    "            'SalesAmount': 'sale_amount', \n",
    "            'OrderDate': 'orderdate'\n",
    "        }\n",
    "        \n",
    "        return df.rename(columns=column_mapping)   \n",
    "    def convert_data_types(df):\n",
    "        \"\"\"\n",
    "        Convert columns of a DataFrame to desired data types.\n",
    "        \n",
    "        Args:\n",
    "        - df: pandas DataFrame containing the data\n",
    "        \n",
    "        Returns:\n",
    "        - df: pandas DataFrame with columns converted to desired data types\n",
    "        \"\"\"\n",
    "        df['product_category_name'] = df['product_category_name'].astype(str)\n",
    "        df['product_name'] = df['product_name'].astype(str)\n",
    "        df['product_sub_category_name'] = df['product_sub_category_name'].astype(str)\n",
    "        df['sales_territory_country'] = df['sales_territory_country'].astype(str)\n",
    "        df['sale_amount'] = df['sale_amount'].astype(float)\n",
    "        \n",
    "        return df\n",
    "\n",
    "    # Function to transform data using pandas\n",
    "    # Example transformation, replace 'your_transformation_logic' with your actual logic\n",
    "    df = pd.read_csv(StringIO(data), header=0)  # Assuming data is CSV, change as needed\n",
    "    \n",
    "    renamed_df = rename_columns(df)\n",
    "    converted_df = convert_data_types(renamed_df)\n",
    "\n",
    "    cleaned_df = converted_df\n",
    "    \n",
    "    return cleaned_df\n",
    "\n",
    "def load_data_to_minio(cleaned_data, bucket_name, object_name):\n",
    "    # Function to save cleaned data to MinIO in Parquet format\n",
    "    with BytesIO() as f:\n",
    "        cleaned_data.to_parquet(f,index=False, engine='pyarrow')\n",
    "        f.seek(0)\n",
    "        minio_client.put_object(bucket_name, object_name, f, f.getbuffer().nbytes)\n",
    "\n",
    "#-----------------------------------------------------------------------------------------------#\n",
    "\n",
    "if __name__ == \"__main__\":\n",
    "    # Example usage\n",
    "    bucket_name = 'datalake'\n",
    "    raw_data_object_name = 'raw/sales/sales_data.csv'\n",
    "    cleaned_data_object_name = 'cleaned/sales/sales_data.parquet'\n",
    "\n",
    "    # Read raw data from MinIO\n",
    "    raw_data = extract_data_from_minio(bucket_name, raw_data_object_name)\n",
    "\n",
    "    # Transform data\n",
    "    cleaned_data = transform_data(raw_data)\n",
    "\n",
    "    # Save cleaned data to MinIO in Parquet format\n",
    "    load_data_to_minio(cleaned_data, bucket_name, cleaned_data_object_name)\n"
   ]
  },
  {
   "cell_type": "code",
   "execution_count": 77,
   "metadata": {},
   "outputs": [
    {
     "name": "stdout",
     "output_type": "stream",
     "text": [
      "          id product_category_name product_sub_category_name  \\\n",
      "0          0                 Bikes                Road Bikes   \n",
      "1          1                 Bikes            Mountain Bikes   \n",
      "2          2                 Bikes            Mountain Bikes   \n",
      "3          3                 Bikes                Road Bikes   \n",
      "4          4                 Bikes            Mountain Bikes   \n",
      "...      ...                   ...                       ...   \n",
      "60393  60393           Accessories                   Fenders   \n",
      "60394  60394              Clothing                      Caps   \n",
      "60395  60395           Accessories                   Fenders   \n",
      "60396  60396           Accessories               Bike Stands   \n",
      "60397  60397              Clothing                      Caps   \n",
      "\n",
      "                  product_name sales_territory_country  sale_amount  \\\n",
      "0             Road-150 Red, 62                  Canada    3578.2700   \n",
      "1      Mountain-100 Silver, 44                  France    3399.9900   \n",
      "2      Mountain-100 Silver, 44           United States    3399.9900   \n",
      "3           Road-650 Black, 62           United States     699.0982   \n",
      "4      Mountain-100 Silver, 44               Australia    3399.9900   \n",
      "...                        ...                     ...          ...   \n",
      "60393    Fender Set - Mountain                  Canada      21.9800   \n",
      "60394             AWC Logo Cap                  Canada       8.9900   \n",
      "60395    Fender Set - Mountain                  Canada      21.9800   \n",
      "60396   All-Purpose Bike Stand                  Canada     159.0000   \n",
      "60397             AWC Logo Cap                  Canada       8.9900   \n",
      "\n",
      "        orderdate  \n",
      "0      2010-12-29  \n",
      "1      2010-12-29  \n",
      "2      2010-12-29  \n",
      "3      2010-12-29  \n",
      "4      2010-12-29  \n",
      "...           ...  \n",
      "60393  2014-01-28  \n",
      "60394  2014-01-28  \n",
      "60395  2014-01-28  \n",
      "60396  2014-01-28  \n",
      "60397  2014-01-28  \n",
      "\n",
      "[60398 rows x 7 columns]\n"
     ]
    }
   ],
   "source": [
    "def read_parquet_from_minio(bucket_name, object_name):\n",
    "    # Function to read Parquet data from MinIO\n",
    "    obj = minio_client.get_object(bucket_name, object_name)\n",
    "    with BytesIO() as f:\n",
    "        f.write(obj.data)\n",
    "        f.seek(0)\n",
    "        df = pd.read_parquet(f)\n",
    "    return df\n",
    "# Read cleaned Parquet data from MinIO and print\n",
    "cleaned_df = read_parquet_from_minio(bucket_name, cleaned_data_object_name)\n",
    "print(cleaned_df)"
   ]
  }
 ],
 "metadata": {
  "kernelspec": {
   "display_name": "venv",
   "language": "python",
   "name": "python3"
  },
  "language_info": {
   "codemirror_mode": {
    "name": "ipython",
    "version": 3
   },
   "file_extension": ".py",
   "mimetype": "text/x-python",
   "name": "python",
   "nbconvert_exporter": "python",
   "pygments_lexer": "ipython3",
   "version": "3.10.7"
  }
 },
 "nbformat": 4,
 "nbformat_minor": 2
}
