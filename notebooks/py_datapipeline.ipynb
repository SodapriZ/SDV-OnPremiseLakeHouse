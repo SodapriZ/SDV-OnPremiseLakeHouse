{
 "cells": [
  {
   "cell_type": "code",
   "execution_count": 1,
   "metadata": {},
   "outputs": [
    {
     "name": "stdout",
     "output_type": "stream",
     "text": [
      "Total buckets:  2\n"
     ]
    }
   ],
   "source": [
    "from minio import Minio\n",
    "\n",
    "client = Minio(endpoint='localhost:9000',\n",
    "               access_key=\"ZinBerwZJRd9wbOe1OWT\",\n",
    "               secret_key=\"XWHgomBnefdf2ESELmsOk7BrXL08NH8THgCg94Eg\",\n",
    "               secure=False)\n",
    "\n",
    "print(\"Total buckets: \", len(client.list_buckets()))"
   ]
  },
  {
   "cell_type": "code",
   "execution_count": 2,
   "metadata": {},
   "outputs": [
    {
     "name": "stdout",
     "output_type": "stream",
     "text": [
      "cleaned/sales_data.parquet\n",
      "data/sales_data.csv\n",
      "raw/sales_data.csv\n"
     ]
    }
   ],
   "source": [
    "import boto3\n",
    "# Set up MinIO client\n",
    "s3 = boto3.client('s3',\n",
    "                  endpoint_url='http://localhost:9000',\n",
    "                  aws_access_key_id=\"ZinBerwZJRd9wbOe1OWT\",\n",
    "                  aws_secret_access_key=\"XWHgomBnefdf2ESELmsOk7BrXL08NH8THgCg94Eg\")\n",
    "# Create a bucket\n",
    "# s3.create_bucket(Bucket='mybucket')\n",
    "# # Upload a file to the bucket\n",
    "# s3.upload_file('myfile.txt', 'mybucket', 'myfile.txt')\n",
    "# List objects in the bucket\n",
    "response = s3.list_objects(Bucket='datalake')\n",
    "for obj in response.get('Contents', []):\n",
    "    print(obj['Key'])"
   ]
  },
  {
   "cell_type": "code",
   "execution_count": 3,
   "metadata": {},
   "outputs": [
    {
     "name": "stdout",
     "output_type": "stream",
     "text": [
      "Total buckets:  2\n"
     ]
    }
   ],
   "source": [
    "import pandas as pd\n",
    "from minio import Minio\n",
    "from io import StringIO, BytesIO\n",
    "\n",
    "# MinIO configurations\n",
    "minio_client = Minio(endpoint='localhost:9000',\n",
    "               access_key=\"ZinBerwZJRd9wbOe1OWT\",\n",
    "               secret_key=\"XWHgomBnefdf2ESELmsOk7BrXL08NH8THgCg94Eg\",\n",
    "               secure=False)\n",
    "\n",
    "print(\"Total buckets: \", len(client.list_buckets()))\n",
    "\n",
    "#-------------------------------------- E T L -------------------------------------------------------#\n",
    "\n",
    "def extract_data_from_minio(bucket_name, object_name):\n",
    "    # Function to read data from MinIO\n",
    "    obj = minio_client.get_object(bucket_name, object_name)\n",
    "    data = obj.data.decode('utf-8')\n",
    "    return data\n",
    "\n",
    "def transform_data(data):\n",
    "    # Function to transform data using pandas\n",
    "    # Example transformation, replace 'your_transformation_logic' with your actual logic\n",
    "    df = pd.read_csv(StringIO(data), header=0)  # Assuming data is CSV, change as needed\n",
    "    cleaned_df = df\n",
    "    return cleaned_df\n",
    "\n",
    "def load_data_to_minio(cleaned_data, bucket_name, object_name):\n",
    "    # Function to save cleaned data to MinIO in Parquet format\n",
    "    with BytesIO() as f:\n",
    "        cleaned_data.to_parquet(f)\n",
    "        f.seek(0)\n",
    "        minio_client.put_object(bucket_name, object_name, f, f.getbuffer().nbytes)\n",
    "\n",
    "#-----------------------------------------------------------------------------------------------#\n",
    "\n",
    "if __name__ == \"__main__\":\n",
    "    # Example usage\n",
    "    bucket_name = 'datalake'\n",
    "    raw_data_object_name = 'raw/sales_data.csv'\n",
    "    cleaned_data_object_name = 'cleaned/sales_data.parquet'\n",
    "\n",
    "    # Read raw data from MinIO\n",
    "    raw_data = extract_data_from_minio(bucket_name, raw_data_object_name)\n",
    "\n",
    "    # Transform data\n",
    "    cleaned_data = transform_data(raw_data)\n",
    "\n",
    "    # Save cleaned data to MinIO in Parquet format\n",
    "    load_data_to_minio(cleaned_data, bucket_name, cleaned_data_object_name)\n"
   ]
  },
  {
   "cell_type": "code",
   "execution_count": 4,
   "metadata": {},
   "outputs": [
    {
     "name": "stdout",
     "output_type": "stream",
     "text": [
      "       Unnamed: 0 ProductCategoryName ProductSubcategoryName  \\\n",
      "0               0               Bikes             Road Bikes   \n",
      "1               1               Bikes         Mountain Bikes   \n",
      "2               2               Bikes         Mountain Bikes   \n",
      "3               3               Bikes             Road Bikes   \n",
      "4               4               Bikes         Mountain Bikes   \n",
      "...           ...                 ...                    ...   \n",
      "60393       60393         Accessories                Fenders   \n",
      "60394       60394            Clothing                   Caps   \n",
      "60395       60395         Accessories                Fenders   \n",
      "60396       60396         Accessories            Bike Stands   \n",
      "60397       60397            Clothing                   Caps   \n",
      "\n",
      "                   ProductName SalesTerritoryCountry  SalesAmount   OrderDate  \n",
      "0             Road-150 Red, 62                Canada    3578.2700  2010-12-29  \n",
      "1      Mountain-100 Silver, 44                France    3399.9900  2010-12-29  \n",
      "2      Mountain-100 Silver, 44         United States    3399.9900  2010-12-29  \n",
      "3           Road-650 Black, 62         United States     699.0982  2010-12-29  \n",
      "4      Mountain-100 Silver, 44             Australia    3399.9900  2010-12-29  \n",
      "...                        ...                   ...          ...         ...  \n",
      "60393    Fender Set - Mountain                Canada      21.9800  2014-01-28  \n",
      "60394             AWC Logo Cap                Canada       8.9900  2014-01-28  \n",
      "60395    Fender Set - Mountain                Canada      21.9800  2014-01-28  \n",
      "60396   All-Purpose Bike Stand                Canada     159.0000  2014-01-28  \n",
      "60397             AWC Logo Cap                Canada       8.9900  2014-01-28  \n",
      "\n",
      "[60398 rows x 7 columns]\n"
     ]
    }
   ],
   "source": [
    "def read_parquet_from_minio(bucket_name, object_name):\n",
    "    # Function to read Parquet data from MinIO\n",
    "    obj = minio_client.get_object(bucket_name, object_name)\n",
    "    with BytesIO() as f:\n",
    "        f.write(obj.data)\n",
    "        f.seek(0)\n",
    "        df = pd.read_parquet(f)\n",
    "    return df\n",
    "# Read cleaned Parquet data from MinIO and print\n",
    "cleaned_df = read_parquet_from_minio(bucket_name, cleaned_data_object_name)\n",
    "print(cleaned_df)"
   ]
  }
 ],
 "metadata": {
  "kernelspec": {
   "display_name": "venv",
   "language": "python",
   "name": "python3"
  },
  "language_info": {
   "codemirror_mode": {
    "name": "ipython",
    "version": 3
   },
   "file_extension": ".py",
   "mimetype": "text/x-python",
   "name": "python",
   "nbconvert_exporter": "python",
   "pygments_lexer": "ipython3",
   "version": "3.10.7"
  }
 },
 "nbformat": 4,
 "nbformat_minor": 2
}
